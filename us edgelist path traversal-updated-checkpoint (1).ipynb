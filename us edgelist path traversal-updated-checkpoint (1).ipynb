{
 "cells": [
  {
   "cell_type": "code",
   "execution_count": 1,
   "metadata": {},
   "outputs": [],
   "source": [
    "import pandas as pd\n",
    "import networkx as nx\n",
    "import numpy as np"
   ]
  },
  {
   "cell_type": "code",
   "execution_count": 2,
   "metadata": {},
   "outputs": [],
   "source": [
    "df=pd.read_csv('us_edgelist.csv')"
   ]
  },
  {
   "cell_type": "code",
   "execution_count": 3,
   "metadata": {},
   "outputs": [
    {
     "data": {
      "text/html": [
       "<div>\n",
       "<style scoped>\n",
       "    .dataframe tbody tr th:only-of-type {\n",
       "        vertical-align: middle;\n",
       "    }\n",
       "\n",
       "    .dataframe tbody tr th {\n",
       "        vertical-align: top;\n",
       "    }\n",
       "\n",
       "    .dataframe thead th {\n",
       "        text-align: right;\n",
       "    }\n",
       "</style>\n",
       "<table border=\"1\" class=\"dataframe\">\n",
       "  <thead>\n",
       "    <tr style=\"text-align: right;\">\n",
       "      <th></th>\n",
       "      <th>From</th>\n",
       "      <th>To</th>\n",
       "      <th>Weight</th>\n",
       "    </tr>\n",
       "  </thead>\n",
       "  <tbody>\n",
       "    <tr>\n",
       "      <th>0</th>\n",
       "      <td>14</td>\n",
       "      <td>7</td>\n",
       "      <td>2</td>\n",
       "    </tr>\n",
       "    <tr>\n",
       "      <th>1</th>\n",
       "      <td>8</td>\n",
       "      <td>6</td>\n",
       "      <td>3</td>\n",
       "    </tr>\n",
       "    <tr>\n",
       "      <th>2</th>\n",
       "      <td>1</td>\n",
       "      <td>2</td>\n",
       "      <td>5</td>\n",
       "    </tr>\n",
       "    <tr>\n",
       "      <th>3</th>\n",
       "      <td>13</td>\n",
       "      <td>5</td>\n",
       "      <td>20</td>\n",
       "    </tr>\n",
       "    <tr>\n",
       "      <th>4</th>\n",
       "      <td>14</td>\n",
       "      <td>12</td>\n",
       "      <td>33</td>\n",
       "    </tr>\n",
       "    <tr>\n",
       "      <th>5</th>\n",
       "      <td>14</td>\n",
       "      <td>17</td>\n",
       "      <td>2</td>\n",
       "    </tr>\n",
       "    <tr>\n",
       "      <th>6</th>\n",
       "      <td>8</td>\n",
       "      <td>0</td>\n",
       "      <td>3</td>\n",
       "    </tr>\n",
       "    <tr>\n",
       "      <th>7</th>\n",
       "      <td>8</td>\n",
       "      <td>3</td>\n",
       "      <td>6</td>\n",
       "    </tr>\n",
       "    <tr>\n",
       "      <th>8</th>\n",
       "      <td>1</td>\n",
       "      <td>10</td>\n",
       "      <td>4</td>\n",
       "    </tr>\n",
       "    <tr>\n",
       "      <th>9</th>\n",
       "      <td>1</td>\n",
       "      <td>18</td>\n",
       "      <td>56</td>\n",
       "    </tr>\n",
       "    <tr>\n",
       "      <th>10</th>\n",
       "      <td>13</td>\n",
       "      <td>7</td>\n",
       "      <td>4</td>\n",
       "    </tr>\n",
       "    <tr>\n",
       "      <th>11</th>\n",
       "      <td>9</td>\n",
       "      <td>8</td>\n",
       "      <td>3</td>\n",
       "    </tr>\n",
       "    <tr>\n",
       "      <th>12</th>\n",
       "      <td>8</td>\n",
       "      <td>1</td>\n",
       "      <td>2</td>\n",
       "    </tr>\n",
       "    <tr>\n",
       "      <th>13</th>\n",
       "      <td>1</td>\n",
       "      <td>13</td>\n",
       "      <td>28</td>\n",
       "    </tr>\n",
       "    <tr>\n",
       "      <th>14</th>\n",
       "      <td>7</td>\n",
       "      <td>6</td>\n",
       "      <td>29</td>\n",
       "    </tr>\n",
       "    <tr>\n",
       "      <th>15</th>\n",
       "      <td>6</td>\n",
       "      <td>2</td>\n",
       "      <td>0</td>\n",
       "    </tr>\n",
       "    <tr>\n",
       "      <th>16</th>\n",
       "      <td>2</td>\n",
       "      <td>5</td>\n",
       "      <td>2</td>\n",
       "    </tr>\n",
       "    <tr>\n",
       "      <th>17</th>\n",
       "      <td>7</td>\n",
       "      <td>2</td>\n",
       "      <td>1</td>\n",
       "    </tr>\n",
       "    <tr>\n",
       "      <th>18</th>\n",
       "      <td>3</td>\n",
       "      <td>16</td>\n",
       "      <td>23</td>\n",
       "    </tr>\n",
       "    <tr>\n",
       "      <th>19</th>\n",
       "      <td>0</td>\n",
       "      <td>15</td>\n",
       "      <td>44</td>\n",
       "    </tr>\n",
       "    <tr>\n",
       "      <th>20</th>\n",
       "      <td>10</td>\n",
       "      <td>11</td>\n",
       "      <td>3</td>\n",
       "    </tr>\n",
       "  </tbody>\n",
       "</table>\n",
       "</div>"
      ],
      "text/plain": [
       "    From  To  Weight\n",
       "0     14   7       2\n",
       "1      8   6       3\n",
       "2      1   2       5\n",
       "3     13   5      20\n",
       "4     14  12      33\n",
       "5     14  17       2\n",
       "6      8   0       3\n",
       "7      8   3       6\n",
       "8      1  10       4\n",
       "9      1  18      56\n",
       "10    13   7       4\n",
       "11     9   8       3\n",
       "12     8   1       2\n",
       "13     1  13      28\n",
       "14     7   6      29\n",
       "15     6   2       0\n",
       "16     2   5       2\n",
       "17     7   2       1\n",
       "18     3  16      23\n",
       "19     0  15      44\n",
       "20    10  11       3"
      ]
     },
     "execution_count": 3,
     "metadata": {},
     "output_type": "execute_result"
    }
   ],
   "source": [
    "df"
   ]
  },
  {
   "cell_type": "code",
   "execution_count": 4,
   "metadata": {},
   "outputs": [
    {
     "data": {
      "text/plain": [
       "[(14, 7, 'weight')]"
      ]
     },
     "execution_count": 4,
     "metadata": {},
     "output_type": "execute_result"
    }
   ],
   "source": [
    "edgelist=list(zip(df['From'],df['To'],{'weight':df['Weight']}))\n",
    "edgelist"
   ]
  },
  {
   "cell_type": "code",
   "execution_count": 49,
   "metadata": {},
   "outputs": [
    {
     "data": {
      "image/png": "[encoded data removed]",
      "text/plain": [
       "<Figure size 432x288 with 1 Axes>"
      ]
     },
     "metadata": {},
     "output_type": "display_data"
    }
   ],
   "source": [
    "G=nx.from_pandas_edgelist(df, source='From', target='To', edge_attr='Weight')\n",
    "nx.draw(G, with_labels=True)"
   ]
  },
  {
   "cell_type": "code",
   "execution_count": 50,
   "metadata": {},
   "outputs": [
    {
     "data": {
      "text/html": [
       "<div>\n",
       "<style scoped>\n",
       "    .dataframe tbody tr th:only-of-type {\n",
       "        vertical-align: middle;\n",
       "    }\n",
       "\n",
       "    .dataframe tbody tr th {\n",
       "        vertical-align: top;\n",
       "    }\n",
       "\n",
       "    .dataframe thead th {\n",
       "        text-align: right;\n",
       "    }\n",
       "</style>\n",
       "<table border=\"1\" class=\"dataframe\">\n",
       "  <thead>\n",
       "    <tr style=\"text-align: right;\">\n",
       "      <th></th>\n",
       "      <th>id</th>\n",
       "      <th>Name</th>\n",
       "    </tr>\n",
       "  </thead>\n",
       "  <tbody>\n",
       "    <tr>\n",
       "      <th>0</th>\n",
       "      <td>0</td>\n",
       "      <td>Al Gore</td>\n",
       "    </tr>\n",
       "    <tr>\n",
       "      <th>1</th>\n",
       "      <td>1</td>\n",
       "      <td>Obama</td>\n",
       "    </tr>\n",
       "    <tr>\n",
       "      <th>2</th>\n",
       "      <td>2</td>\n",
       "      <td>Michelle</td>\n",
       "    </tr>\n",
       "    <tr>\n",
       "      <th>3</th>\n",
       "      <td>3</td>\n",
       "      <td>Kerry</td>\n",
       "    </tr>\n",
       "    <tr>\n",
       "      <th>4</th>\n",
       "      <td>4</td>\n",
       "      <td>Ivanka</td>\n",
       "    </tr>\n",
       "    <tr>\n",
       "      <th>5</th>\n",
       "      <td>5</td>\n",
       "      <td>Melania</td>\n",
       "    </tr>\n",
       "    <tr>\n",
       "      <th>6</th>\n",
       "      <td>6</td>\n",
       "      <td>Laura</td>\n",
       "    </tr>\n",
       "    <tr>\n",
       "      <th>7</th>\n",
       "      <td>7</td>\n",
       "      <td>Hillary</td>\n",
       "    </tr>\n",
       "    <tr>\n",
       "      <th>8</th>\n",
       "      <td>8</td>\n",
       "      <td>Bush</td>\n",
       "    </tr>\n",
       "    <tr>\n",
       "      <th>9</th>\n",
       "      <td>9</td>\n",
       "      <td>Bill</td>\n",
       "    </tr>\n",
       "    <tr>\n",
       "      <th>10</th>\n",
       "      <td>10</td>\n",
       "      <td>McCain</td>\n",
       "    </tr>\n",
       "    <tr>\n",
       "      <th>11</th>\n",
       "      <td>11</td>\n",
       "      <td>\\tCindy</td>\n",
       "    </tr>\n",
       "    <tr>\n",
       "      <th>12</th>\n",
       "      <td>12</td>\n",
       "      <td>G.Bush</td>\n",
       "    </tr>\n",
       "    <tr>\n",
       "      <th>13</th>\n",
       "      <td>13</td>\n",
       "      <td>Trump</td>\n",
       "    </tr>\n",
       "    <tr>\n",
       "      <th>14</th>\n",
       "      <td>14</td>\n",
       "      <td>Clinton</td>\n",
       "    </tr>\n",
       "    <tr>\n",
       "      <th>15</th>\n",
       "      <td>15</td>\n",
       "      <td>T.Aitcheson</td>\n",
       "    </tr>\n",
       "    <tr>\n",
       "      <th>16</th>\n",
       "      <td>16</td>\n",
       "      <td>J. Thorn</td>\n",
       "    </tr>\n",
       "    <tr>\n",
       "      <th>17</th>\n",
       "      <td>17</td>\n",
       "      <td>Dole</td>\n",
       "    </tr>\n",
       "    <tr>\n",
       "      <th>18</th>\n",
       "      <td>18</td>\n",
       "      <td>Romney</td>\n",
       "    </tr>\n",
       "  </tbody>\n",
       "</table>\n",
       "</div>"
      ],
      "text/plain": [
       "    id         Name\n",
       "0    0      Al Gore\n",
       "1    1        Obama\n",
       "2    2     Michelle\n",
       "3    3        Kerry\n",
       "4    4       Ivanka\n",
       "5    5     Melania \n",
       "6    6        Laura\n",
       "7    7      Hillary\n",
       "8    8         Bush\n",
       "9    9         Bill\n",
       "10  10       McCain\n",
       "11  11      \\tCindy\n",
       "12  12      G.Bush \n",
       "13  13        Trump\n",
       "14  14      Clinton\n",
       "15  15  T.Aitcheson\n",
       "16  16     J. Thorn\n",
       "17  17         Dole\n",
       "18  18       Romney"
      ]
     },
     "execution_count": 50,
     "metadata": {},
     "output_type": "execute_result"
    }
   ],
   "source": [
    "nodes=pd.read_csv('nodes.csv')\n",
    "nodes"
   ]
  },
  {
   "cell_type": "code",
   "execution_count": 51,
   "metadata": {},
   "outputs": [
    {
     "data": {
      "text/plain": [
       "Index(['id', 'Name'], dtype='object')"
      ]
     },
     "execution_count": 51,
     "metadata": {},
     "output_type": "execute_result"
    }
   ],
   "source": [
    "nodes.columns"
   ]
  },
  {
   "cell_type": "code",
   "execution_count": 52,
   "metadata": {},
   "outputs": [],
   "source": [
    "nx.set_node_attributes(G, pd.Series(nodes.Name, index=nodes.id).to_dict(), 'Name')"
   ]
  },
  {
   "cell_type": "code",
   "execution_count": 53,
   "metadata": {},
   "outputs": [
    {
     "data": {
      "image/png": "[encoded data removed]",
      "text/plain": [
       "<Figure size 432x288 with 1 Axes>"
      ]
     },
     "metadata": {},
     "output_type": "display_data"
    }
   ],
   "source": [
    "nx.draw(G, with_labels= True, data=True)"
   ]
  },
  {
   "cell_type": "code",
   "execution_count": 54,
   "metadata": {},
   "outputs": [
    {
     "data": {
      "text/plain": [
       "{14: 'Clinton',\n",
       " 7: 'Hillary',\n",
       " 8: 'Bush',\n",
       " 6: 'Laura',\n",
       " 1: 'Obama',\n",
       " 2: 'Michelle',\n",
       " 13: 'Trump',\n",
       " 5: 'Melania ',\n",
       " 12: ' G.Bush ',\n",
       " 17: 'Dole',\n",
       " 0: 'Al Gore',\n",
       " 3: 'Kerry',\n",
       " 10: 'McCain',\n",
       " 18: 'Romney',\n",
       " 9: 'Bill',\n",
       " 16: 'J. Thorn',\n",
       " 15: 'T.Aitcheson',\n",
       " 11: '\\tCindy'}"
      ]
     },
     "execution_count": 54,
     "metadata": {},
     "output_type": "execute_result"
    }
   ],
   "source": [
    "nx.get_node_attributes(G,'Name')"
   ]
  },
  {
   "cell_type": "code",
   "execution_count": 55,
   "metadata": {},
   "outputs": [
    {
     "data": {
      "text/plain": [
       "{}"
      ]
     },
     "execution_count": 55,
     "metadata": {},
     "output_type": "execute_result"
    }
   ],
   "source": [
    "nx.get_edge_attributes(G,'weight')"
   ]
  },
  {
   "cell_type": "markdown",
   "metadata": {},
   "source": [
    "# BFS TRAVERSAL"
   ]
  },
  {
   "cell_type": "code",
   "execution_count": 56,
   "metadata": {},
   "outputs": [],
   "source": [
    "root=1\n",
    "edges = nx.bfs_edges(G, root)\n",
    "bfs = [root] + [v for u, v in edges]"
   ]
  },
  {
   "cell_type": "code",
   "execution_count": 57,
   "metadata": {},
   "outputs": [
    {
     "data": {
      "text/plain": [
       "[1, 2, 10, 18, 8, 13, 6, 5, 7, 11, 0, 3, 9, 14, 15, 16, 12, 17]"
      ]
     },
     "execution_count": 57,
     "metadata": {},
     "output_type": "execute_result"
    }
   ],
   "source": [
    "bfs"
   ]
  },
  {
   "cell_type": "markdown",
   "metadata": {},
   "source": [
    "# DFS TRAVERSAL"
   ]
  },
  {
   "cell_type": "code",
   "execution_count": 58,
   "metadata": {},
   "outputs": [],
   "source": [
    "root=1\n",
    "edges = nx.dfs_edges(G, root)\n",
    "dfs = [root] + [v for u, v in edges]"
   ]
  },
  {
   "cell_type": "code",
   "execution_count": 59,
   "metadata": {},
   "outputs": [
    {
     "data": {
      "text/plain": [
       "[1, 2, 6, 8, 0, 15, 3, 16, 9, 7, 14, 12, 17, 13, 5, 10, 11, 18]"
      ]
     },
     "execution_count": 59,
     "metadata": {},
     "output_type": "execute_result"
    }
   ],
   "source": [
    "dfs"
   ]
  },
  {
   "cell_type": "markdown",
   "metadata": {},
   "source": [
    "# A* ALGORITHM FOR SHORTEST PATH\n",
    "\n",
    "Syntax: astar_path(G, source, target, heuristic=None, weight='weight')\n",
    "\n",
    "Return a list of nodes in a shortest path between source and target using the A* (“A-star”) algorithm."
   ]
  },
  {
   "cell_type": "code",
   "execution_count": 60,
   "metadata": {},
   "outputs": [
    {
     "name": "stdout",
     "output_type": "stream",
     "text": [
      "[1, 2, 7]\n"
     ]
    }
   ],
   "source": [
    "print(nx.astar_path(G, 1, 7))"
   ]
  },
  {
   "cell_type": "markdown",
   "metadata": {},
   "source": [
    "# ALL SHORTEST PATHS BETWEEN SOURCE AND TARGET\n",
    "\n",
    "all_shortest_paths(G, source, target, weight=None)\n",
    "\n",
    "\n",
    "Compute all shortest paths in the graph."
   ]
  },
  {
   "cell_type": "code",
   "execution_count": 61,
   "metadata": {},
   "outputs": [
    {
     "name": "stdout",
     "output_type": "stream",
     "text": [
      "[[1, 2, 6], [1, 8, 6]]\n"
     ]
    }
   ],
   "source": [
    "print([p for p in nx.all_shortest_paths(G, source=1, target=6)])"
   ]
  },
  {
   "cell_type": "markdown",
   "metadata": {},
   "source": [
    "# SHORTEST PATH BY DJIKSTRA\n",
    "\n",
    "shortest_path(G, source=None, target=None, weight=None)\n",
    "\n",
    "\n",
    "Compute shortest paths in the graph."
   ]
  },
  {
   "cell_type": "code",
   "execution_count": 62,
   "metadata": {},
   "outputs": [
    {
     "name": "stdout",
     "output_type": "stream",
     "text": [
      "[1, 13, 7]\n"
     ]
    }
   ],
   "source": [
    "print(nx.shortest_path(G, source=1, method='dijkstra', target=7))"
   ]
  },
  {
   "cell_type": "markdown",
   "metadata": {},
   "source": [
    "# MINIMUM SPANNING TREE\n",
    "\n",
    "minimum_spanning_tree(G, weight='weight')\n",
    "\n",
    "\n",
    "Return a minimum spanning tree or forest of an undirected weighted graph.\n",
    "\n",
    "A minimum spanning tree is a subgraph of the graph (a tree) with the minimum sum of edge weights.\n",
    "If the graph is not connected a spanning forest is constructed. A spanning forest is a union of the spanning trees for each connected component of the graph."
   ]
  },
  {
   "cell_type": "code",
   "execution_count": 63,
   "metadata": {},
   "outputs": [
    {
     "name": "stdout",
     "output_type": "stream",
     "text": [
      "[(0, 15, {'Weight': 44}), (1, 10, {'Weight': 4}), (1, 18, {'Weight': 56}), (2, 5, {'Weight': 2}), (3, 16, {'Weight': 23}), (7, 2, {'Weight': 1}), (7, 6, {'Weight': 29}), (7, 13, {'Weight': 4}), (8, 0, {'Weight': 3}), (8, 1, {'Weight': 2}), (8, 3, {'Weight': 6}), (8, 6, {'Weight': 3}), (8, 9, {'Weight': 3}), (10, 11, {'Weight': 3}), (14, 7, {'Weight': 2}), (14, 12, {'Weight': 33}), (14, 17, {'Weight': 2})]\n"
     ]
    }
   ],
   "source": [
    "T=nx.minimum_spanning_tree(G)\n",
    "print(sorted(T.edges(data=True)))"
   ]
  },
  {
   "cell_type": "markdown",
   "metadata": {},
   "source": [
    "# ALL SHORTEST PATHS STARTING FROM SOURCE\n",
    "\n",
    "single_source_shortest_path(G, source, cutoff=None)\n",
    "\n",
    "Compute shortest path between source and all other nodes reachable from source."
   ]
  },
  {
   "cell_type": "code",
   "execution_count": 64,
   "metadata": {},
   "outputs": [],
   "source": [
    "path = nx.single_source_shortest_path(G, 1)"
   ]
  },
  {
   "cell_type": "code",
   "execution_count": 65,
   "metadata": {},
   "outputs": [
    {
     "data": {
      "text/plain": [
       "{1: [1],\n",
       " 2: [1, 2],\n",
       " 10: [1, 10],\n",
       " 18: [1, 18],\n",
       " 8: [1, 8],\n",
       " 13: [1, 13],\n",
       " 6: [1, 2, 6],\n",
       " 5: [1, 2, 5],\n",
       " 7: [1, 2, 7],\n",
       " 11: [1, 10, 11],\n",
       " 0: [1, 8, 0],\n",
       " 3: [1, 8, 3],\n",
       " 9: [1, 8, 9],\n",
       " 14: [1, 2, 7, 14],\n",
       " 15: [1, 8, 0, 15],\n",
       " 16: [1, 8, 3, 16],\n",
       " 12: [1, 2, 7, 14, 12],\n",
       " 17: [1, 2, 7, 14, 17]}"
      ]
     },
     "execution_count": 65,
     "metadata": {},
     "output_type": "execute_result"
    }
   ],
   "source": [
    "path"
   ]
  },
  {
   "cell_type": "code",
   "execution_count": 66,
   "metadata": {},
   "outputs": [],
   "source": [
    "path = nx.all_pairs_shortest_path(G)"
   ]
  },
  {
   "cell_type": "code",
   "execution_count": 67,
   "metadata": {},
   "outputs": [
    {
     "name": "stdout",
     "output_type": "stream",
     "text": [
      "[(14, {14: [14], 7: [14, 7], 12: [14, 12], 17: [14, 17], 13: [14, 7, 13], 6: [14, 7, 6], 2: [14, 7, 2], 5: [14, 7, 13, 5], 1: [14, 7, 13, 1], 8: [14, 7, 6, 8], 10: [14, 7, 13, 1, 10], 18: [14, 7, 13, 1, 18], 0: [14, 7, 6, 8, 0], 3: [14, 7, 6, 8, 3], 9: [14, 7, 6, 8, 9], 11: [14, 7, 13, 1, 10, 11], 15: [14, 7, 6, 8, 0, 15], 16: [14, 7, 6, 8, 3, 16]}), (7, {7: [7], 14: [7, 14], 13: [7, 13], 6: [7, 6], 2: [7, 2], 12: [7, 14, 12], 17: [7, 14, 17], 5: [7, 13, 5], 1: [7, 13, 1], 8: [7, 6, 8], 10: [7, 13, 1, 10], 18: [7, 13, 1, 18], 0: [7, 6, 8, 0], 3: [7, 6, 8, 3], 9: [7, 6, 8, 9], 11: [7, 13, 1, 10, 11], 15: [7, 6, 8, 0, 15], 16: [7, 6, 8, 3, 16]}), (8, {8: [8], 6: [8, 6], 0: [8, 0], 3: [8, 3], 9: [8, 9], 1: [8, 1], 7: [8, 6, 7], 2: [8, 6, 2], 15: [8, 0, 15], 16: [8, 3, 16], 10: [8, 1, 10], 18: [8, 1, 18], 13: [8, 1, 13], 14: [8, 6, 7, 14], 5: [8, 6, 2, 5], 11: [8, 1, 10, 11], 12: [8, 6, 7, 14, 12], 17: [8, 6, 7, 14, 17]}), (6, {6: [6], 8: [6, 8], 7: [6, 7], 2: [6, 2], 0: [6, 8, 0], 3: [6, 8, 3], 9: [6, 8, 9], 1: [6, 8, 1], 14: [6, 7, 14], 13: [6, 7, 13], 5: [6, 2, 5], 15: [6, 8, 0, 15], 16: [6, 8, 3, 16], 10: [6, 8, 1, 10], 18: [6, 8, 1, 18], 12: [6, 7, 14, 12], 17: [6, 7, 14, 17], 11: [6, 8, 1, 10, 11]}), (1, {1: [1], 2: [1, 2], 10: [1, 10], 18: [1, 18], 8: [1, 8], 13: [1, 13], 6: [1, 2, 6], 5: [1, 2, 5], 7: [1, 2, 7], 11: [1, 10, 11], 0: [1, 8, 0], 3: [1, 8, 3], 9: [1, 8, 9], 14: [1, 2, 7, 14], 15: [1, 8, 0, 15], 16: [1, 8, 3, 16], 12: [1, 2, 7, 14, 12], 17: [1, 2, 7, 14, 17]}), (2, {2: [2], 1: [2, 1], 6: [2, 6], 5: [2, 5], 7: [2, 7], 10: [2, 1, 10], 18: [2, 1, 18], 8: [2, 1, 8], 13: [2, 1, 13], 14: [2, 7, 14], 11: [2, 1, 10, 11], 0: [2, 1, 8, 0], 3: [2, 1, 8, 3], 9: [2, 1, 8, 9], 12: [2, 7, 14, 12], 17: [2, 7, 14, 17], 15: [2, 1, 8, 0, 15], 16: [2, 1, 8, 3, 16]}), (13, {13: [13], 5: [13, 5], 7: [13, 7], 1: [13, 1], 2: [13, 5, 2], 14: [13, 7, 14], 6: [13, 7, 6], 10: [13, 1, 10], 18: [13, 1, 18], 8: [13, 1, 8], 12: [13, 7, 14, 12], 17: [13, 7, 14, 17], 11: [13, 1, 10, 11], 0: [13, 1, 8, 0], 3: [13, 1, 8, 3], 9: [13, 1, 8, 9], 15: [13, 1, 8, 0, 15], 16: [13, 1, 8, 3, 16]}), (5, {5: [5], 13: [5, 13], 2: [5, 2], 7: [5, 13, 7], 1: [5, 13, 1], 6: [5, 2, 6], 14: [5, 13, 7, 14], 10: [5, 13, 1, 10], 18: [5, 13, 1, 18], 8: [5, 13, 1, 8], 12: [5, 13, 7, 14, 12], 17: [5, 13, 7, 14, 17], 11: [5, 13, 1, 10, 11], 0: [5, 13, 1, 8, 0], 3: [5, 13, 1, 8, 3], 9: [5, 13, 1, 8, 9], 15: [5, 13, 1, 8, 0, 15], 16: [5, 13, 1, 8, 3, 16]}), (12, {12: [12], 14: [12, 14], 7: [12, 14, 7], 17: [12, 14, 17], 13: [12, 14, 7, 13], 6: [12, 14, 7, 6], 2: [12, 14, 7, 2], 5: [12, 14, 7, 13, 5], 1: [12, 14, 7, 13, 1], 8: [12, 14, 7, 6, 8], 10: [12, 14, 7, 13, 1, 10], 18: [12, 14, 7, 13, 1, 18], 0: [12, 14, 7, 6, 8, 0], 3: [12, 14, 7, 6, 8, 3], 9: [12, 14, 7, 6, 8, 9], 11: [12, 14, 7, 13, 1, 10, 11], 15: [12, 14, 7, 6, 8, 0, 15], 16: [12, 14, 7, 6, 8, 3, 16]}), (17, {17: [17], 14: [17, 14], 7: [17, 14, 7], 12: [17, 14, 12], 13: [17, 14, 7, 13], 6: [17, 14, 7, 6], 2: [17, 14, 7, 2], 5: [17, 14, 7, 13, 5], 1: [17, 14, 7, 13, 1], 8: [17, 14, 7, 6, 8], 10: [17, 14, 7, 13, 1, 10], 18: [17, 14, 7, 13, 1, 18], 0: [17, 14, 7, 6, 8, 0], 3: [17, 14, 7, 6, 8, 3], 9: [17, 14, 7, 6, 8, 9], 11: [17, 14, 7, 13, 1, 10, 11], 15: [17, 14, 7, 6, 8, 0, 15], 16: [17, 14, 7, 6, 8, 3, 16]}), (0, {0: [0], 8: [0, 8], 15: [0, 15], 6: [0, 8, 6], 3: [0, 8, 3], 9: [0, 8, 9], 1: [0, 8, 1], 7: [0, 8, 6, 7], 2: [0, 8, 6, 2], 16: [0, 8, 3, 16], 10: [0, 8, 1, 10], 18: [0, 8, 1, 18], 13: [0, 8, 1, 13], 14: [0, 8, 6, 7, 14], 5: [0, 8, 6, 2, 5], 11: [0, 8, 1, 10, 11], 12: [0, 8, 6, 7, 14, 12], 17: [0, 8, 6, 7, 14, 17]}), (3, {3: [3], 8: [3, 8], 16: [3, 16], 6: [3, 8, 6], 0: [3, 8, 0], 9: [3, 8, 9], 1: [3, 8, 1], 7: [3, 8, 6, 7], 2: [3, 8, 6, 2], 15: [3, 8, 0, 15], 10: [3, 8, 1, 10], 18: [3, 8, 1, 18], 13: [3, 8, 1, 13], 14: [3, 8, 6, 7, 14], 5: [3, 8, 6, 2, 5], 11: [3, 8, 1, 10, 11], 12: [3, 8, 6, 7, 14, 12], 17: [3, 8, 6, 7, 14, 17]}), (10, {10: [10], 1: [10, 1], 11: [10, 11], 2: [10, 1, 2], 18: [10, 1, 18], 8: [10, 1, 8], 13: [10, 1, 13], 6: [10, 1, 2, 6], 5: [10, 1, 2, 5], 7: [10, 1, 2, 7], 0: [10, 1, 8, 0], 3: [10, 1, 8, 3], 9: [10, 1, 8, 9], 14: [10, 1, 2, 7, 14], 15: [10, 1, 8, 0, 15], 16: [10, 1, 8, 3, 16], 12: [10, 1, 2, 7, 14, 12], 17: [10, 1, 2, 7, 14, 17]}), (18, {18: [18], 1: [18, 1], 2: [18, 1, 2], 10: [18, 1, 10], 8: [18, 1, 8], 13: [18, 1, 13], 6: [18, 1, 2, 6], 5: [18, 1, 2, 5], 7: [18, 1, 2, 7], 11: [18, 1, 10, 11], 0: [18, 1, 8, 0], 3: [18, 1, 8, 3], 9: [18, 1, 8, 9], 14: [18, 1, 2, 7, 14], 15: [18, 1, 8, 0, 15], 16: [18, 1, 8, 3, 16], 12: [18, 1, 2, 7, 14, 12], 17: [18, 1, 2, 7, 14, 17]}), (9, {9: [9], 8: [9, 8], 6: [9, 8, 6], 0: [9, 8, 0], 3: [9, 8, 3], 1: [9, 8, 1], 7: [9, 8, 6, 7], 2: [9, 8, 6, 2], 15: [9, 8, 0, 15], 16: [9, 8, 3, 16], 10: [9, 8, 1, 10], 18: [9, 8, 1, 18], 13: [9, 8, 1, 13], 14: [9, 8, 6, 7, 14], 5: [9, 8, 6, 2, 5], 11: [9, 8, 1, 10, 11], 12: [9, 8, 6, 7, 14, 12], 17: [9, 8, 6, 7, 14, 17]}), (16, {16: [16], 3: [16, 3], 8: [16, 3, 8], 6: [16, 3, 8, 6], 0: [16, 3, 8, 0], 9: [16, 3, 8, 9], 1: [16, 3, 8, 1], 7: [16, 3, 8, 6, 7], 2: [16, 3, 8, 6, 2], 15: [16, 3, 8, 0, 15], 10: [16, 3, 8, 1, 10], 18: [16, 3, 8, 1, 18], 13: [16, 3, 8, 1, 13], 14: [16, 3, 8, 6, 7, 14], 5: [16, 3, 8, 6, 2, 5], 11: [16, 3, 8, 1, 10, 11], 12: [16, 3, 8, 6, 7, 14, 12], 17: [16, 3, 8, 6, 7, 14, 17]}), (15, {15: [15], 0: [15, 0], 8: [15, 0, 8], 6: [15, 0, 8, 6], 3: [15, 0, 8, 3], 9: [15, 0, 8, 9], 1: [15, 0, 8, 1], 7: [15, 0, 8, 6, 7], 2: [15, 0, 8, 6, 2], 16: [15, 0, 8, 3, 16], 10: [15, 0, 8, 1, 10], 18: [15, 0, 8, 1, 18], 13: [15, 0, 8, 1, 13], 14: [15, 0, 8, 6, 7, 14], 5: [15, 0, 8, 6, 2, 5], 11: [15, 0, 8, 1, 10, 11], 12: [15, 0, 8, 6, 7, 14, 12], 17: [15, 0, 8, 6, 7, 14, 17]}), (11, {11: [11], 10: [11, 10], 1: [11, 10, 1], 2: [11, 10, 1, 2], 18: [11, 10, 1, 18], 8: [11, 10, 1, 8], 13: [11, 10, 1, 13], 6: [11, 10, 1, 2, 6], 5: [11, 10, 1, 2, 5], 7: [11, 10, 1, 2, 7], 0: [11, 10, 1, 8, 0], 3: [11, 10, 1, 8, 3], 9: [11, 10, 1, 8, 9], 14: [11, 10, 1, 2, 7, 14], 15: [11, 10, 1, 8, 0, 15], 16: [11, 10, 1, 8, 3, 16], 12: [11, 10, 1, 2, 7, 14, 12], 17: [11, 10, 1, 2, 7, 14, 17]})]\n"
     ]
    }
   ],
   "source": [
    "print(list(path))"
   ]
  },
  {
   "cell_type": "code",
   "execution_count": 68,
   "metadata": {},
   "outputs": [],
   "source": [
    "path1=nx.floyd_warshall(G)"
   ]
  },
  {
   "cell_type": "code",
   "execution_count": 69,
   "metadata": {},
   "outputs": [
    {
     "data": {
      "text/plain": [
       "{14: defaultdict(<function networkx.algorithms.shortest_paths.dense.floyd_warshall_predecessor_and_distance.<locals>.<lambda>.<locals>.<lambda>()>,\n",
       "             {14: 0,\n",
       "              7: 1.0,\n",
       "              12: 1.0,\n",
       "              17: 1.0,\n",
       "              8: 3.0,\n",
       "              6: 2.0,\n",
       "              1: 3.0,\n",
       "              2: 2.0,\n",
       "              13: 2.0,\n",
       "              5: 3.0,\n",
       "              0: 4.0,\n",
       "              3: 4.0,\n",
       "              10: 4.0,\n",
       "              18: 4.0,\n",
       "              9: 4.0,\n",
       "              16: 5.0,\n",
       "              15: 5.0,\n",
       "              11: 5.0}),\n",
       " 7: defaultdict(<function networkx.algorithms.shortest_paths.dense.floyd_warshall_predecessor_and_distance.<locals>.<lambda>.<locals>.<lambda>()>,\n",
       "             {7: 0,\n",
       "              14: 1.0,\n",
       "              13: 1.0,\n",
       "              6: 1.0,\n",
       "              2: 1.0,\n",
       "              8: 2.0,\n",
       "              1: 2.0,\n",
       "              5: 2.0,\n",
       "              12: 2.0,\n",
       "              17: 2.0,\n",
       "              0: 3.0,\n",
       "              3: 3.0,\n",
       "              10: 3.0,\n",
       "              18: 3.0,\n",
       "              9: 3.0,\n",
       "              16: 4.0,\n",
       "              15: 4.0,\n",
       "              11: 4.0}),\n",
       " 8: defaultdict(<function networkx.algorithms.shortest_paths.dense.floyd_warshall_predecessor_and_distance.<locals>.<lambda>.<locals>.<lambda>()>,\n",
       "             {8: 0,\n",
       "              6: 1.0,\n",
       "              0: 1.0,\n",
       "              3: 1.0,\n",
       "              9: 1.0,\n",
       "              1: 1.0,\n",
       "              14: 3.0,\n",
       "              7: 2.0,\n",
       "              2: 2.0,\n",
       "              13: 2.0,\n",
       "              5: 3.0,\n",
       "              12: 4.0,\n",
       "              17: 4.0,\n",
       "              10: 2.0,\n",
       "              18: 2.0,\n",
       "              16: 2.0,\n",
       "              15: 2.0,\n",
       "              11: 3.0}),\n",
       " 6: defaultdict(<function networkx.algorithms.shortest_paths.dense.floyd_warshall_predecessor_and_distance.<locals>.<lambda>.<locals>.<lambda>()>,\n",
       "             {6: 0,\n",
       "              7: 1.0,\n",
       "              8: 1.0,\n",
       "              2: 1.0,\n",
       "              14: 2.0,\n",
       "              1: 2.0,\n",
       "              13: 2.0,\n",
       "              5: 2.0,\n",
       "              12: 3.0,\n",
       "              17: 3.0,\n",
       "              0: 2.0,\n",
       "              3: 2.0,\n",
       "              10: 3.0,\n",
       "              18: 3.0,\n",
       "              9: 2.0,\n",
       "              16: 3.0,\n",
       "              15: 3.0,\n",
       "              11: 4.0}),\n",
       " 1: defaultdict(<function networkx.algorithms.shortest_paths.dense.floyd_warshall_predecessor_and_distance.<locals>.<lambda>.<locals>.<lambda>()>,\n",
       "             {1: 0,\n",
       "              8: 1.0,\n",
       "              2: 1.0,\n",
       "              10: 1.0,\n",
       "              18: 1.0,\n",
       "              13: 1.0,\n",
       "              14: 3.0,\n",
       "              7: 2.0,\n",
       "              6: 2.0,\n",
       "              5: 2.0,\n",
       "              12: 4.0,\n",
       "              17: 4.0,\n",
       "              0: 2.0,\n",
       "              3: 2.0,\n",
       "              9: 2.0,\n",
       "              16: 3.0,\n",
       "              15: 3.0,\n",
       "              11: 2.0}),\n",
       " 2: defaultdict(<function networkx.algorithms.shortest_paths.dense.floyd_warshall_predecessor_and_distance.<locals>.<lambda>.<locals>.<lambda>()>,\n",
       "             {2: 0,\n",
       "              7: 1.0,\n",
       "              6: 1.0,\n",
       "              1: 1.0,\n",
       "              5: 1.0,\n",
       "              14: 2.0,\n",
       "              8: 2.0,\n",
       "              13: 2.0,\n",
       "              12: 3.0,\n",
       "              17: 3.0,\n",
       "              0: 3.0,\n",
       "              3: 3.0,\n",
       "              10: 2.0,\n",
       "              18: 2.0,\n",
       "              9: 3.0,\n",
       "              16: 4.0,\n",
       "              15: 4.0,\n",
       "              11: 3.0}),\n",
       " 13: defaultdict(<function networkx.algorithms.shortest_paths.dense.floyd_warshall_predecessor_and_distance.<locals>.<lambda>.<locals>.<lambda>()>,\n",
       "             {13: 0,\n",
       "              7: 1.0,\n",
       "              1: 1.0,\n",
       "              5: 1.0,\n",
       "              14: 2.0,\n",
       "              8: 2.0,\n",
       "              6: 2.0,\n",
       "              2: 2.0,\n",
       "              12: 3.0,\n",
       "              17: 3.0,\n",
       "              0: 3.0,\n",
       "              3: 3.0,\n",
       "              10: 2.0,\n",
       "              18: 2.0,\n",
       "              9: 3.0,\n",
       "              16: 4.0,\n",
       "              15: 4.0,\n",
       "              11: 3.0}),\n",
       " 5: defaultdict(<function networkx.algorithms.shortest_paths.dense.floyd_warshall_predecessor_and_distance.<locals>.<lambda>.<locals>.<lambda>()>,\n",
       "             {5: 0,\n",
       "              2: 1.0,\n",
       "              13: 1.0,\n",
       "              14: 3.0,\n",
       "              7: 2.0,\n",
       "              8: 3.0,\n",
       "              6: 2.0,\n",
       "              1: 2.0,\n",
       "              12: 4.0,\n",
       "              17: 4.0,\n",
       "              0: 4.0,\n",
       "              3: 4.0,\n",
       "              10: 3.0,\n",
       "              18: 3.0,\n",
       "              9: 4.0,\n",
       "              16: 5.0,\n",
       "              15: 5.0,\n",
       "              11: 4.0}),\n",
       " 12: defaultdict(<function networkx.algorithms.shortest_paths.dense.floyd_warshall_predecessor_and_distance.<locals>.<lambda>.<locals>.<lambda>()>,\n",
       "             {12: 0,\n",
       "              14: 1.0,\n",
       "              7: 2.0,\n",
       "              8: 4.0,\n",
       "              6: 3.0,\n",
       "              1: 4.0,\n",
       "              2: 3.0,\n",
       "              13: 3.0,\n",
       "              5: 4.0,\n",
       "              17: 2.0,\n",
       "              0: 5.0,\n",
       "              3: 5.0,\n",
       "              10: 5.0,\n",
       "              18: 5.0,\n",
       "              9: 5.0,\n",
       "              16: 6.0,\n",
       "              15: 6.0,\n",
       "              11: 6.0}),\n",
       " 17: defaultdict(<function networkx.algorithms.shortest_paths.dense.floyd_warshall_predecessor_and_distance.<locals>.<lambda>.<locals>.<lambda>()>,\n",
       "             {17: 0,\n",
       "              14: 1.0,\n",
       "              7: 2.0,\n",
       "              8: 4.0,\n",
       "              6: 3.0,\n",
       "              1: 4.0,\n",
       "              2: 3.0,\n",
       "              13: 3.0,\n",
       "              5: 4.0,\n",
       "              12: 2.0,\n",
       "              0: 5.0,\n",
       "              3: 5.0,\n",
       "              10: 5.0,\n",
       "              18: 5.0,\n",
       "              9: 5.0,\n",
       "              16: 6.0,\n",
       "              15: 6.0,\n",
       "              11: 6.0}),\n",
       " 0: defaultdict(<function networkx.algorithms.shortest_paths.dense.floyd_warshall_predecessor_and_distance.<locals>.<lambda>.<locals>.<lambda>()>,\n",
       "             {0: 0,\n",
       "              8: 1.0,\n",
       "              15: 1.0,\n",
       "              14: 4.0,\n",
       "              7: 3.0,\n",
       "              6: 2.0,\n",
       "              1: 2.0,\n",
       "              2: 3.0,\n",
       "              13: 3.0,\n",
       "              5: 4.0,\n",
       "              12: 5.0,\n",
       "              17: 5.0,\n",
       "              3: 2.0,\n",
       "              10: 3.0,\n",
       "              18: 3.0,\n",
       "              9: 2.0,\n",
       "              16: 3.0,\n",
       "              11: 4.0}),\n",
       " 3: defaultdict(<function networkx.algorithms.shortest_paths.dense.floyd_warshall_predecessor_and_distance.<locals>.<lambda>.<locals>.<lambda>()>,\n",
       "             {3: 0,\n",
       "              8: 1.0,\n",
       "              16: 1.0,\n",
       "              14: 4.0,\n",
       "              7: 3.0,\n",
       "              6: 2.0,\n",
       "              1: 2.0,\n",
       "              2: 3.0,\n",
       "              13: 3.0,\n",
       "              5: 4.0,\n",
       "              12: 5.0,\n",
       "              17: 5.0,\n",
       "              0: 2.0,\n",
       "              10: 3.0,\n",
       "              18: 3.0,\n",
       "              9: 2.0,\n",
       "              15: 3.0,\n",
       "              11: 4.0}),\n",
       " 10: defaultdict(<function networkx.algorithms.shortest_paths.dense.floyd_warshall_predecessor_and_distance.<locals>.<lambda>.<locals>.<lambda>()>,\n",
       "             {10: 0,\n",
       "              1: 1.0,\n",
       "              11: 1.0,\n",
       "              14: 4.0,\n",
       "              7: 3.0,\n",
       "              8: 2.0,\n",
       "              6: 3.0,\n",
       "              2: 2.0,\n",
       "              13: 2.0,\n",
       "              5: 3.0,\n",
       "              12: 5.0,\n",
       "              17: 5.0,\n",
       "              0: 3.0,\n",
       "              3: 3.0,\n",
       "              18: 2.0,\n",
       "              9: 3.0,\n",
       "              16: 4.0,\n",
       "              15: 4.0}),\n",
       " 18: defaultdict(<function networkx.algorithms.shortest_paths.dense.floyd_warshall_predecessor_and_distance.<locals>.<lambda>.<locals>.<lambda>()>,\n",
       "             {18: 0,\n",
       "              1: 1.0,\n",
       "              14: 4.0,\n",
       "              7: 3.0,\n",
       "              8: 2.0,\n",
       "              6: 3.0,\n",
       "              2: 2.0,\n",
       "              13: 2.0,\n",
       "              5: 3.0,\n",
       "              12: 5.0,\n",
       "              17: 5.0,\n",
       "              0: 3.0,\n",
       "              3: 3.0,\n",
       "              10: 2.0,\n",
       "              9: 3.0,\n",
       "              16: 4.0,\n",
       "              15: 4.0,\n",
       "              11: 3.0}),\n",
       " 9: defaultdict(<function networkx.algorithms.shortest_paths.dense.floyd_warshall_predecessor_and_distance.<locals>.<lambda>.<locals>.<lambda>()>,\n",
       "             {9: 0,\n",
       "              8: 1.0,\n",
       "              14: 4.0,\n",
       "              7: 3.0,\n",
       "              6: 2.0,\n",
       "              1: 2.0,\n",
       "              2: 3.0,\n",
       "              13: 3.0,\n",
       "              5: 4.0,\n",
       "              12: 5.0,\n",
       "              17: 5.0,\n",
       "              0: 2.0,\n",
       "              3: 2.0,\n",
       "              10: 3.0,\n",
       "              18: 3.0,\n",
       "              16: 3.0,\n",
       "              15: 3.0,\n",
       "              11: 4.0}),\n",
       " 16: defaultdict(<function networkx.algorithms.shortest_paths.dense.floyd_warshall_predecessor_and_distance.<locals>.<lambda>.<locals>.<lambda>()>,\n",
       "             {16: 0,\n",
       "              3: 1.0,\n",
       "              14: 5.0,\n",
       "              7: 4.0,\n",
       "              8: 2.0,\n",
       "              6: 3.0,\n",
       "              1: 3.0,\n",
       "              2: 4.0,\n",
       "              13: 4.0,\n",
       "              5: 5.0,\n",
       "              12: 6.0,\n",
       "              17: 6.0,\n",
       "              0: 3.0,\n",
       "              10: 4.0,\n",
       "              18: 4.0,\n",
       "              9: 3.0,\n",
       "              15: 4.0,\n",
       "              11: 5.0}),\n",
       " 15: defaultdict(<function networkx.algorithms.shortest_paths.dense.floyd_warshall_predecessor_and_distance.<locals>.<lambda>.<locals>.<lambda>()>,\n",
       "             {15: 0,\n",
       "              0: 1.0,\n",
       "              14: 5.0,\n",
       "              7: 4.0,\n",
       "              8: 2.0,\n",
       "              6: 3.0,\n",
       "              1: 3.0,\n",
       "              2: 4.0,\n",
       "              13: 4.0,\n",
       "              5: 5.0,\n",
       "              12: 6.0,\n",
       "              17: 6.0,\n",
       "              3: 3.0,\n",
       "              10: 4.0,\n",
       "              18: 4.0,\n",
       "              9: 3.0,\n",
       "              16: 4.0,\n",
       "              11: 5.0}),\n",
       " 11: defaultdict(<function networkx.algorithms.shortest_paths.dense.floyd_warshall_predecessor_and_distance.<locals>.<lambda>.<locals>.<lambda>()>,\n",
       "             {11: 0,\n",
       "              10: 1.0,\n",
       "              14: 5.0,\n",
       "              7: 4.0,\n",
       "              8: 3.0,\n",
       "              6: 4.0,\n",
       "              1: 2.0,\n",
       "              2: 3.0,\n",
       "              13: 3.0,\n",
       "              5: 4.0,\n",
       "              12: 6.0,\n",
       "              17: 6.0,\n",
       "              0: 4.0,\n",
       "              3: 4.0,\n",
       "              18: 3.0,\n",
       "              9: 4.0,\n",
       "              16: 5.0,\n",
       "              15: 5.0})}"
      ]
     },
     "execution_count": 69,
     "metadata": {},
     "output_type": "execute_result"
    }
   ],
   "source": [
    "path1"
   ]
  },
  {
   "cell_type": "code",
   "execution_count": 70,
   "metadata": {},
   "outputs": [
    {
     "data": {
      "text/plain": [
       "<generator object all_pairs_shortest_path_length at 0x0000022F9D1D8970>"
      ]
     },
     "execution_count": 70,
     "metadata": {},
     "output_type": "execute_result"
    }
   ],
   "source": [
    "length = nx.all_pairs_shortest_path_length(G)\n",
    "length"
   ]
  },
  {
   "cell_type": "code",
   "execution_count": 71,
   "metadata": {},
   "outputs": [
    {
     "name": "stdout",
     "output_type": "stream",
     "text": [
      "[(14, {14: 0, 7: 1, 12: 1, 17: 1, 13: 2, 6: 2, 2: 2, 5: 3, 1: 3, 8: 3, 10: 4, 18: 4, 0: 4, 3: 4, 9: 4, 11: 5, 15: 5, 16: 5}), (7, {7: 0, 14: 1, 13: 1, 6: 1, 2: 1, 12: 2, 17: 2, 5: 2, 1: 2, 8: 2, 10: 3, 18: 3, 0: 3, 3: 3, 9: 3, 11: 4, 15: 4, 16: 4}), (8, {8: 0, 6: 1, 0: 1, 3: 1, 9: 1, 1: 1, 7: 2, 2: 2, 15: 2, 16: 2, 10: 2, 18: 2, 13: 2, 14: 3, 5: 3, 11: 3, 12: 4, 17: 4}), (6, {6: 0, 8: 1, 7: 1, 2: 1, 0: 2, 3: 2, 9: 2, 1: 2, 14: 2, 13: 2, 5: 2, 15: 3, 16: 3, 10: 3, 18: 3, 12: 3, 17: 3, 11: 4}), (1, {1: 0, 2: 1, 10: 1, 18: 1, 8: 1, 13: 1, 6: 2, 5: 2, 7: 2, 11: 2, 0: 2, 3: 2, 9: 2, 14: 3, 15: 3, 16: 3, 12: 4, 17: 4}), (2, {2: 0, 1: 1, 6: 1, 5: 1, 7: 1, 10: 2, 18: 2, 8: 2, 13: 2, 14: 2, 11: 3, 0: 3, 3: 3, 9: 3, 12: 3, 17: 3, 15: 4, 16: 4}), (13, {13: 0, 5: 1, 7: 1, 1: 1, 2: 2, 14: 2, 6: 2, 10: 2, 18: 2, 8: 2, 12: 3, 17: 3, 11: 3, 0: 3, 3: 3, 9: 3, 15: 4, 16: 4}), (5, {5: 0, 13: 1, 2: 1, 7: 2, 1: 2, 6: 2, 14: 3, 10: 3, 18: 3, 8: 3, 12: 4, 17: 4, 11: 4, 0: 4, 3: 4, 9: 4, 15: 5, 16: 5}), (12, {12: 0, 14: 1, 7: 2, 17: 2, 13: 3, 6: 3, 2: 3, 5: 4, 1: 4, 8: 4, 10: 5, 18: 5, 0: 5, 3: 5, 9: 5, 11: 6, 15: 6, 16: 6}), (17, {17: 0, 14: 1, 7: 2, 12: 2, 13: 3, 6: 3, 2: 3, 5: 4, 1: 4, 8: 4, 10: 5, 18: 5, 0: 5, 3: 5, 9: 5, 11: 6, 15: 6, 16: 6}), (0, {0: 0, 8: 1, 15: 1, 6: 2, 3: 2, 9: 2, 1: 2, 7: 3, 2: 3, 16: 3, 10: 3, 18: 3, 13: 3, 14: 4, 5: 4, 11: 4, 12: 5, 17: 5}), (3, {3: 0, 8: 1, 16: 1, 6: 2, 0: 2, 9: 2, 1: 2, 7: 3, 2: 3, 15: 3, 10: 3, 18: 3, 13: 3, 14: 4, 5: 4, 11: 4, 12: 5, 17: 5}), (10, {10: 0, 1: 1, 11: 1, 2: 2, 18: 2, 8: 2, 13: 2, 6: 3, 5: 3, 7: 3, 0: 3, 3: 3, 9: 3, 14: 4, 15: 4, 16: 4, 12: 5, 17: 5}), (18, {18: 0, 1: 1, 2: 2, 10: 2, 8: 2, 13: 2, 6: 3, 5: 3, 7: 3, 11: 3, 0: 3, 3: 3, 9: 3, 14: 4, 15: 4, 16: 4, 12: 5, 17: 5}), (9, {9: 0, 8: 1, 6: 2, 0: 2, 3: 2, 1: 2, 7: 3, 2: 3, 15: 3, 16: 3, 10: 3, 18: 3, 13: 3, 14: 4, 5: 4, 11: 4, 12: 5, 17: 5}), (16, {16: 0, 3: 1, 8: 2, 6: 3, 0: 3, 9: 3, 1: 3, 7: 4, 2: 4, 15: 4, 10: 4, 18: 4, 13: 4, 14: 5, 5: 5, 11: 5, 12: 6, 17: 6}), (15, {15: 0, 0: 1, 8: 2, 6: 3, 3: 3, 9: 3, 1: 3, 7: 4, 2: 4, 16: 4, 10: 4, 18: 4, 13: 4, 14: 5, 5: 5, 11: 5, 12: 6, 17: 6}), (11, {11: 0, 10: 1, 1: 2, 2: 3, 18: 3, 8: 3, 13: 3, 6: 4, 5: 4, 7: 4, 0: 4, 3: 4, 9: 4, 14: 5, 15: 5, 16: 5, 12: 6, 17: 6})]\n"
     ]
    }
   ],
   "source": [
    "print(list(length))"
   ]
  },
  {
   "cell_type": "code",
   "execution_count": 72,
   "metadata": {},
   "outputs": [
    {
     "ename": "TypeError",
     "evalue": "'Series' objects are mutable, thus they cannot be hashed",
     "output_type": "error",
     "traceback": [
      "\u001b[1;31m---------------------------------------------------------------------------\u001b[0m",
      "\u001b[1;31mTypeError\u001b[0m                                 Traceback (most recent call last)",
      "\u001b[1;32m<ipython-input-72-701961bf9c6e>\u001b[0m in \u001b[0;36m<module>\u001b[1;34m\u001b[0m\n\u001b[1;32m----> 1\u001b[1;33m \u001b[0mnx\u001b[0m\u001b[1;33m.\u001b[0m\u001b[0mbellman_ford_path_length\u001b[0m\u001b[1;33m(\u001b[0m\u001b[0mG\u001b[0m\u001b[1;33m,\u001b[0m \u001b[1;36m1\u001b[0m\u001b[1;33m,\u001b[0m \u001b[1;36m13\u001b[0m\u001b[1;33m,\u001b[0m \u001b[0mweight\u001b[0m\u001b[1;33m=\u001b[0m\u001b[0mdf\u001b[0m\u001b[1;33m[\u001b[0m\u001b[1;34m'Weight'\u001b[0m\u001b[1;33m]\u001b[0m\u001b[1;33m)\u001b[0m\u001b[1;33m\u001b[0m\u001b[1;33m\u001b[0m\u001b[0m\n\u001b[0m",
      "\u001b[1;32m~\\anaconda3\\lib\\site-packages\\networkx\\algorithms\\shortest_paths\\weighted.py\u001b[0m in \u001b[0;36mbellman_ford_path_length\u001b[1;34m(G, source, target, weight)\u001b[0m\n\u001b[0;32m   1426\u001b[0m     \u001b[0mweight\u001b[0m \u001b[1;33m=\u001b[0m \u001b[0m_weight_function\u001b[0m\u001b[1;33m(\u001b[0m\u001b[0mG\u001b[0m\u001b[1;33m,\u001b[0m \u001b[0mweight\u001b[0m\u001b[1;33m)\u001b[0m\u001b[1;33m\u001b[0m\u001b[1;33m\u001b[0m\u001b[0m\n\u001b[0;32m   1427\u001b[0m \u001b[1;33m\u001b[0m\u001b[0m\n\u001b[1;32m-> 1428\u001b[1;33m     \u001b[0mlength\u001b[0m \u001b[1;33m=\u001b[0m \u001b[0m_bellman_ford\u001b[0m\u001b[1;33m(\u001b[0m\u001b[0mG\u001b[0m\u001b[1;33m,\u001b[0m \u001b[1;33m[\u001b[0m\u001b[0msource\u001b[0m\u001b[1;33m]\u001b[0m\u001b[1;33m,\u001b[0m \u001b[0mweight\u001b[0m\u001b[1;33m,\u001b[0m \u001b[0mtarget\u001b[0m\u001b[1;33m=\u001b[0m\u001b[0mtarget\u001b[0m\u001b[1;33m)\u001b[0m\u001b[1;33m\u001b[0m\u001b[1;33m\u001b[0m\u001b[0m\n\u001b[0m\u001b[0;32m   1429\u001b[0m \u001b[1;33m\u001b[0m\u001b[0m\n\u001b[0;32m   1430\u001b[0m     \u001b[1;32mtry\u001b[0m\u001b[1;33m:\u001b[0m\u001b[1;33m\u001b[0m\u001b[1;33m\u001b[0m\u001b[0m\n",
      "\u001b[1;32m~\\anaconda3\\lib\\site-packages\\networkx\\algorithms\\shortest_paths\\weighted.py\u001b[0m in \u001b[0;36m_bellman_ford\u001b[1;34m(G, source, weight, pred, paths, dist, target)\u001b[0m\n\u001b[0;32m   1293\u001b[0m             \u001b[0mdist_u\u001b[0m \u001b[1;33m=\u001b[0m \u001b[0mdist\u001b[0m\u001b[1;33m[\u001b[0m\u001b[0mu\u001b[0m\u001b[1;33m]\u001b[0m\u001b[1;33m\u001b[0m\u001b[1;33m\u001b[0m\u001b[0m\n\u001b[0;32m   1294\u001b[0m             \u001b[1;32mfor\u001b[0m \u001b[0mv\u001b[0m\u001b[1;33m,\u001b[0m \u001b[0me\u001b[0m \u001b[1;32min\u001b[0m \u001b[0mG_succ\u001b[0m\u001b[1;33m[\u001b[0m\u001b[0mu\u001b[0m\u001b[1;33m]\u001b[0m\u001b[1;33m.\u001b[0m\u001b[0mitems\u001b[0m\u001b[1;33m(\u001b[0m\u001b[1;33m)\u001b[0m\u001b[1;33m:\u001b[0m\u001b[1;33m\u001b[0m\u001b[1;33m\u001b[0m\u001b[0m\n\u001b[1;32m-> 1295\u001b[1;33m                 \u001b[0mdist_v\u001b[0m \u001b[1;33m=\u001b[0m \u001b[0mdist_u\u001b[0m \u001b[1;33m+\u001b[0m \u001b[0mweight\u001b[0m\u001b[1;33m(\u001b[0m\u001b[0mv\u001b[0m\u001b[1;33m,\u001b[0m \u001b[0mu\u001b[0m\u001b[1;33m,\u001b[0m \u001b[0me\u001b[0m\u001b[1;33m)\u001b[0m\u001b[1;33m\u001b[0m\u001b[1;33m\u001b[0m\u001b[0m\n\u001b[0m\u001b[0;32m   1296\u001b[0m \u001b[1;33m\u001b[0m\u001b[0m\n\u001b[0;32m   1297\u001b[0m                 \u001b[1;32mif\u001b[0m \u001b[0mdist_v\u001b[0m \u001b[1;33m<\u001b[0m \u001b[0mdist\u001b[0m\u001b[1;33m.\u001b[0m\u001b[0mget\u001b[0m\u001b[1;33m(\u001b[0m\u001b[0mv\u001b[0m\u001b[1;33m,\u001b[0m \u001b[0minf\u001b[0m\u001b[1;33m)\u001b[0m\u001b[1;33m:\u001b[0m\u001b[1;33m\u001b[0m\u001b[1;33m\u001b[0m\u001b[0m\n",
      "\u001b[1;32m~\\anaconda3\\lib\\site-packages\\networkx\\algorithms\\shortest_paths\\weighted.py\u001b[0m in \u001b[0;36m<lambda>\u001b[1;34m(u, v, data)\u001b[0m\n\u001b[0;32m     85\u001b[0m     \u001b[1;32mif\u001b[0m \u001b[0mG\u001b[0m\u001b[1;33m.\u001b[0m\u001b[0mis_multigraph\u001b[0m\u001b[1;33m(\u001b[0m\u001b[1;33m)\u001b[0m\u001b[1;33m:\u001b[0m\u001b[1;33m\u001b[0m\u001b[1;33m\u001b[0m\u001b[0m\n\u001b[0;32m     86\u001b[0m         \u001b[1;32mreturn\u001b[0m \u001b[1;32mlambda\u001b[0m \u001b[0mu\u001b[0m\u001b[1;33m,\u001b[0m \u001b[0mv\u001b[0m\u001b[1;33m,\u001b[0m \u001b[0md\u001b[0m\u001b[1;33m:\u001b[0m \u001b[0mmin\u001b[0m\u001b[1;33m(\u001b[0m\u001b[0mattr\u001b[0m\u001b[1;33m.\u001b[0m\u001b[0mget\u001b[0m\u001b[1;33m(\u001b[0m\u001b[0mweight\u001b[0m\u001b[1;33m,\u001b[0m \u001b[1;36m1\u001b[0m\u001b[1;33m)\u001b[0m \u001b[1;32mfor\u001b[0m \u001b[0mattr\u001b[0m \u001b[1;32min\u001b[0m \u001b[0md\u001b[0m\u001b[1;33m.\u001b[0m\u001b[0mvalues\u001b[0m\u001b[1;33m(\u001b[0m\u001b[1;33m)\u001b[0m\u001b[1;33m)\u001b[0m\u001b[1;33m\u001b[0m\u001b[1;33m\u001b[0m\u001b[0m\n\u001b[1;32m---> 87\u001b[1;33m     \u001b[1;32mreturn\u001b[0m \u001b[1;32mlambda\u001b[0m \u001b[0mu\u001b[0m\u001b[1;33m,\u001b[0m \u001b[0mv\u001b[0m\u001b[1;33m,\u001b[0m \u001b[0mdata\u001b[0m\u001b[1;33m:\u001b[0m \u001b[0mdata\u001b[0m\u001b[1;33m.\u001b[0m\u001b[0mget\u001b[0m\u001b[1;33m(\u001b[0m\u001b[0mweight\u001b[0m\u001b[1;33m,\u001b[0m \u001b[1;36m1\u001b[0m\u001b[1;33m)\u001b[0m\u001b[1;33m\u001b[0m\u001b[1;33m\u001b[0m\u001b[0m\n\u001b[0m\u001b[0;32m     88\u001b[0m \u001b[1;33m\u001b[0m\u001b[0m\n\u001b[0;32m     89\u001b[0m \u001b[1;33m\u001b[0m\u001b[0m\n",
      "\u001b[1;32m~\\anaconda3\\lib\\site-packages\\pandas\\core\\generic.py\u001b[0m in \u001b[0;36m__hash__\u001b[1;34m(self)\u001b[0m\n\u001b[0;32m   1796\u001b[0m \u001b[1;33m\u001b[0m\u001b[0m\n\u001b[0;32m   1797\u001b[0m     \u001b[1;32mdef\u001b[0m \u001b[0m__hash__\u001b[0m\u001b[1;33m(\u001b[0m\u001b[0mself\u001b[0m\u001b[1;33m)\u001b[0m\u001b[1;33m:\u001b[0m\u001b[1;33m\u001b[0m\u001b[1;33m\u001b[0m\u001b[0m\n\u001b[1;32m-> 1798\u001b[1;33m         raise TypeError(\n\u001b[0m\u001b[0;32m   1799\u001b[0m             \u001b[1;34mf\"{repr(type(self).__name__)} objects are mutable, \"\u001b[0m\u001b[1;33m\u001b[0m\u001b[1;33m\u001b[0m\u001b[0m\n\u001b[0;32m   1800\u001b[0m             \u001b[1;34mf\"thus they cannot be hashed\"\u001b[0m\u001b[1;33m\u001b[0m\u001b[1;33m\u001b[0m\u001b[0m\n",
      "\u001b[1;31mTypeError\u001b[0m: 'Series' objects are mutable, thus they cannot be hashed"
     ]
    }
   ],
   "source": [
    "nx.bellman_ford_path_length(G, 1, 13, weight=df['Weight'])"
   ]
  },
  {
   "cell_type": "markdown",
   "metadata": {},
   "source": [
    "# Random Walk\n"
   ]
  },
  {
   "cell_type": "code",
   "execution_count": 80,
   "metadata": {},
   "outputs": [
    {
     "name": "stdout",
     "output_type": "stream",
     "text": [
      "[1, 2, 6, 8, 3]\n"
     ]
    }
   ],
   "source": [
    "import random\n",
    "import operator\n",
    "\n",
    "random_node = 1\n",
    "path=[]\n",
    "path.append(random_node)\n",
    "\n",
    "for i in range(4):\n",
    "    list_for_nodes = list(G.neighbors(random_node))\n",
    "    if len(list_for_nodes)==0:# if random_node having no outgoing edges\n",
    "        random_node = random.choice([i for i in range(G.number_of_nodes())])\n",
    "        path.append(random_node)\n",
    "        \n",
    "    else:\n",
    "        random_node = random.choice(list_for_nodes) #choose a node randomly from neighbors\n",
    "        path.append(random_node)\n",
    "        \n",
    "print(path)"
   ]
  },
  {
   "cell_type": "code",
   "execution_count": 82,
   "metadata": {},
   "outputs": [
    {
     "name": "stdout",
     "output_type": "stream",
     "text": [
      "[1, 10, 11, 10, 11]\n"
     ]
    }
   ],
   "source": [
    "import random\n",
    "import operator\n",
    " \n",
    "start_node = 1 \n",
    "path=[]\n",
    "path.append(start_node)\n",
    "steps=4\n",
    "random_node=start_node\n",
    "for i in range(steps): \n",
    "    list_for_nodes = list(G.neighbors(random_node))\n",
    "    if len(list_for_nodes)==0:# if random_node having no outgoing edges\n",
    "        random_node = random.choice([i for i in range(G.number_of_nodes())])\n",
    "        path.append(random_node)\n",
    "        \n",
    "    else:\n",
    "        random_node = random.choice(list_for_nodes) #choose a node randomly from neighbors\n",
    "        path.append(random_node)\n",
    "        \n",
    "print(path)\n"
   ]
  },
  {
   "cell_type": "markdown",
   "metadata": {},
   "source": [
    "# SIMRANK SIMILARITY"
   ]
  },
  {
   "cell_type": "code",
   "execution_count": 32,
   "metadata": {},
   "outputs": [],
   "source": [
    "from numpy import array\n",
    "sim = nx.simrank_similarity(G)\n",
    "lol = [[sim[u][v] for v in sorted(sim[u])] for u in sorted(sim)]\n",
    "sim_array = array(lol)"
   ]
  },
  {
   "cell_type": "code",
   "execution_count": 33,
   "metadata": {},
   "outputs": [
    {
     "name": "stdout",
     "output_type": "stream",
     "text": [
      "[[1.         0.40203304 0.14727701 0.59744707 0.29774095 0.4035503\n",
      "  0.22740125 0.10360185 0.70146404 0.10040568 0.33371323 0.16953665\n",
      "  0.14817385 0.164442   0.08476507 0.08476507 0.16953665 0.11049206]\n",
      " [0.40203304 1.         0.17149094 0.40203304 0.51985963 0.39623491\n",
      "  0.37975908 0.13574696 0.47479384 0.1157621  0.54194787 0.26962091\n",
      "  0.15875587 0.16257309 0.10979104 0.10979104 0.26962091 0.12770246]\n",
      " [0.14727701 0.17149094 1.         0.14727701 0.20071209 0.28890025\n",
      "  0.26701296 0.38888941 0.16394098 0.43369655 0.13853837 0.18768582\n",
      "  0.51879619 0.36054894 0.29941323 0.29941323 0.18768582 0.51656705]\n",
      " [0.59744707 0.40203304 0.14727701 1.         0.29774095 0.4035503\n",
      "  0.22740125 0.10360185 0.70146404 0.10040568 0.33371323 0.16953665\n",
      "  0.14817385 0.164442   0.08476507 0.08476507 0.16953665 0.11049206]\n",
      " [0.29774095 0.51985963 0.20071209 0.29774095 1.         0.4116014\n",
      "  0.49470737 0.16611124 0.33557731 0.13450264 0.4079006  0.34400582\n",
      "  0.17831374 0.17463109 0.13295285 0.13295285 0.34400582 0.14861103]\n",
      " [0.4035503  0.39623491 0.28890025 0.4035503  0.4116014  1.\n",
      "  0.32079428 0.17781937 0.49135155 0.18571116 0.3071838  0.22372017\n",
      "  0.30644895 0.31857594 0.143484   0.143484   0.22372017 0.20609906]\n",
      " [0.22740125 0.37975908 0.26701296 0.22740125 0.49470737 0.32079428\n",
      "  1.         0.24894915 0.25432931 0.17975035 0.30219467 0.46868249\n",
      "  0.21247291 0.17837922 0.19427468 0.19427468 0.46868249 0.2000373 ]\n",
      " [0.10360185 0.13574696 0.38888941 0.10360185 0.16611124 0.17781937\n",
      "  0.24894915 1.         0.11431532 0.41049918 0.1103446  0.17853045\n",
      "  0.356838   0.20680584 0.55880899 0.55880899 0.17853045 0.48151706]\n",
      " [0.70146404 0.47479384 0.16394098 0.70146404 0.33557731 0.49135155\n",
      "  0.25432931 0.11431532 1.         0.11074116 0.36944925 0.18612522\n",
      "  0.16524217 0.18180298 0.09324162 0.09324162 0.18612522 0.12217222]\n",
      " [0.10040568 0.1157621  0.43369655 0.10040568 0.13450264 0.18571116\n",
      "  0.17975035 0.41049918 0.11074116 1.         0.09471437 0.13345772\n",
      "  0.47274926 0.25093055 0.3310858  0.3310858  0.13345772 0.69387653]\n",
      " [0.33371323 0.54194787 0.13853837 0.33371323 0.4079006  0.3071838\n",
      "  0.30219467 0.1103446  0.36944925 0.09471437 1.         0.22583747\n",
      "  0.12900449 0.1339997  0.09036507 0.09036507 0.22583747 0.10418585]\n",
      " [0.16953665 0.26962091 0.18768582 0.16953665 0.34400582 0.22372017\n",
      "  0.46868249 0.17853045 0.18612522 0.13345772 0.22583747 1.\n",
      "  0.15467499 0.13378432 0.14799777 0.14799777 0.9        0.14631575]\n",
      " [0.14817385 0.15875587 0.51879619 0.14817385 0.17831374 0.30644895\n",
      "  0.21247291 0.356838   0.16524217 0.47274926 0.12900449 0.15467499\n",
      "  1.         0.40390847 0.27815255 0.27815255 0.15467499 0.5698856 ]\n",
      " [0.164442   0.16257309 0.36054894 0.164442   0.17463109 0.31857594\n",
      "  0.17837922 0.20680584 0.18180298 0.25093055 0.1339997  0.13378432\n",
      "  0.40390847 1.         0.16994234 0.16994234 0.13378432 0.27570025]\n",
      " [0.08476507 0.10979104 0.29941323 0.08476507 0.13295285 0.143484\n",
      "  0.19427468 0.55880899 0.09324162 0.3310858  0.09036507 0.14799777\n",
      "  0.27815255 0.16994234 1.         0.53770236 0.14799777 0.36182972]\n",
      " [0.08476507 0.10979104 0.29941323 0.08476507 0.13295285 0.143484\n",
      "  0.19427468 0.55880899 0.09324162 0.3310858  0.09036507 0.14799777\n",
      "  0.27815255 0.16994234 0.53770236 1.         0.14799777 0.36182972]\n",
      " [0.16953665 0.26962091 0.18768582 0.16953665 0.34400582 0.22372017\n",
      "  0.46868249 0.17853045 0.18612522 0.13345772 0.22583747 0.9\n",
      "  0.15467499 0.13378432 0.14799777 0.14799777 1.         0.14631575]\n",
      " [0.11049206 0.12770246 0.51656705 0.11049206 0.14861103 0.20609906\n",
      "  0.2000373  0.48151706 0.12217222 0.69387653 0.10418585 0.14631575\n",
      "  0.5698856  0.27570025 0.36182972 0.36182972 0.14631575 1.        ]]\n"
     ]
    }
   ],
   "source": [
    "print(sim_array)"
   ]
  },
  {
   "cell_type": "code",
   "execution_count": 28,
   "metadata": {},
   "outputs": [],
   "source": [
    "sim = nx.simrank_similarity_numpy(G)"
   ]
  },
  {
   "cell_type": "code",
   "execution_count": 29,
   "metadata": {},
   "outputs": [
    {
     "data": {
      "text/plain": [
       "array([[1.        , 0.17790588, 0.20640311, 0.31819965, 0.16206721,\n",
       "        0.36025755, 0.40365216, 0.17414476, 0.13326026, 0.13326026,\n",
       "        0.16392785, 0.16392785, 0.25058522, 0.27536831, 0.18130854,\n",
       "        0.1695079 , 0.1695079 , 0.13345904],\n",
       "       [0.17790588, 1.        , 0.24850556, 0.32044721, 0.37946865,\n",
       "        0.2665989 , 0.21202207, 0.49448224, 0.4684438 , 0.4684438 ,\n",
       "        0.22700599, 0.22700599, 0.17926015, 0.1995666 , 0.25395408,\n",
       "        0.19378454, 0.19378454, 0.30186746],\n",
       "       [0.20640311, 0.24850556, 1.        , 0.17732001, 0.1351773 ,\n",
       "        0.38862069, 0.35655548, 0.16558613, 0.17803361, 0.17803361,\n",
       "        0.10297896, 0.10297896, 0.41028016, 0.4813222 , 0.11371333,\n",
       "        0.55866657, 0.55866657, 0.10973639],\n",
       "       [0.31819965, 0.32044721, 0.17732001, 1.        , 0.39595093,\n",
       "        0.28849578, 0.30605317, 0.4113236 , 0.22331805, 0.22331805,\n",
       "        0.40326482, 0.40326482, 0.18522022, 0.20562774, 0.49110644,\n",
       "        0.14294516, 0.14294516, 0.3068607 ],\n",
       "       [0.16206721, 0.37946865, 0.1351773 , 0.39595093, 1.        ,\n",
       "        0.17098137, 0.15823211, 0.51968049, 0.26928448, 0.26928448,\n",
       "        0.40180352, 0.40180352, 0.11517153, 0.12713185, 0.47459447,\n",
       "        0.10918011, 0.10918011, 0.54179752],\n",
       "       [0.36025755, 0.2665989 , 0.38862069, 0.28849578, 0.17098137,\n",
       "        1.        , 0.51859831, 0.20023919, 0.18721011, 0.18721011,\n",
       "        0.14672947, 0.14672947, 0.43346703, 0.51637239, 0.16341524,\n",
       "        0.29909882, 0.29909882, 0.13799003],\n",
       "       [0.40365216, 0.21202207, 0.35655548, 0.30605317, 0.15823211,\n",
       "        0.51859831, 1.        , 0.17782092, 0.15417029, 0.15417029,\n",
       "        0.14762239, 0.14762239, 0.47254779, 0.56972386, 0.164713  ,\n",
       "        0.27783166, 0.27783166, 0.12844229],\n",
       "       [0.17414476, 0.49448224, 0.16558613, 0.4113236 , 0.51968049,\n",
       "        0.20023919, 0.17782092, 1.        , 0.3437228 , 0.3437228 ,\n",
       "        0.29743457, 0.29743457, 0.13394933, 0.14807763, 0.33529264,\n",
       "        0.13238558, 0.13238558, 0.40767802],\n",
       "       [0.13326026, 0.4684438 , 0.17803361, 0.22331805, 0.26928448,\n",
       "        0.18721011, 0.15417029, 0.3437228 , 1.        , 0.9       ,\n",
       "        0.1691041 , 0.1691041 , 0.13291718, 0.14579316, 0.18570905,\n",
       "        0.1474667 , 0.1474667 , 0.22548059],\n",
       "       [0.13326026, 0.4684438 , 0.17803361, 0.22331805, 0.26928448,\n",
       "        0.18721011, 0.15417029, 0.3437228 , 0.9       , 1.        ,\n",
       "        0.1691041 , 0.1691041 , 0.13291718, 0.14579316, 0.18570905,\n",
       "        0.1474667 , 0.1474667 , 0.22548059],\n",
       "       [0.16392785, 0.22700599, 0.10297896, 0.40326482, 0.40180352,\n",
       "        0.14672947, 0.14762239, 0.29743457, 0.1691041 , 0.1691041 ,\n",
       "        1.        , 0.59734674, 0.09977695, 0.10988301, 0.7013905 ,\n",
       "        0.08410132, 0.08410132, 0.33347517],\n",
       "       [0.16392785, 0.22700599, 0.10297896, 0.40326482, 0.40180352,\n",
       "        0.14672947, 0.14762239, 0.29743457, 0.1691041 , 0.1691041 ,\n",
       "        0.59734674, 1.        , 0.09977695, 0.10988301, 0.7013905 ,\n",
       "        0.08410132, 0.08410132, 0.33347517],\n",
       "       [0.25058522, 0.17926015, 0.41028016, 0.18522022, 0.11517153,\n",
       "        0.43346703, 0.47254779, 0.13394933, 0.13291718, 0.13291718,\n",
       "        0.09977695, 0.09977695, 1.        , 0.69379881, 0.11013348,\n",
       "        0.33084398, 0.33084398, 0.09408476],\n",
       "       [0.27536831, 0.1995666 , 0.4813222 , 0.20562774, 0.12713185,\n",
       "        0.51637239, 0.56972386, 0.14807763, 0.14579316, 0.14579316,\n",
       "        0.10988301, 0.10988301, 0.69379881, 1.        , 0.1215844 ,\n",
       "        0.36159236, 0.36159236, 0.10357635],\n",
       "       [0.18130854, 0.25395408, 0.11371333, 0.49110644, 0.47459447,\n",
       "        0.16341524, 0.164713  , 0.33529264, 0.18570905, 0.18570905,\n",
       "        0.7013905 , 0.7013905 , 0.11013348, 0.1215844 , 1.        ,\n",
       "        0.09259887, 0.09259887, 0.369223  ],\n",
       "       [0.1695079 , 0.19378454, 0.55866657, 0.14294516, 0.10918011,\n",
       "        0.29909882, 0.27783166, 0.13238558, 0.1474667 , 0.1474667 ,\n",
       "        0.08410132, 0.08410132, 0.33084398, 0.36159236, 0.09259887,\n",
       "        1.        , 0.53759859, 0.08971625],\n",
       "       [0.1695079 , 0.19378454, 0.55866657, 0.14294516, 0.10918011,\n",
       "        0.29909882, 0.27783166, 0.13238558, 0.1474667 , 0.1474667 ,\n",
       "        0.08410132, 0.08410132, 0.33084398, 0.36159236, 0.09259887,\n",
       "        0.53759859, 1.        , 0.08971625],\n",
       "       [0.13345904, 0.30186746, 0.10973639, 0.3068607 , 0.54179752,\n",
       "        0.13799003, 0.12844229, 0.40767802, 0.22548059, 0.22548059,\n",
       "        0.33347517, 0.33347517, 0.09408476, 0.10357635, 0.369223  ,\n",
       "        0.08971625, 0.08971625, 1.        ]])"
      ]
     },
     "execution_count": 29,
     "metadata": {},
     "output_type": "execute_result"
    }
   ],
   "source": [
    "sim"
   ]
  },
  {
   "cell_type": "markdown",
   "metadata": {},
   "source": [
    "# JACCARD SIMILARITY"
   ]
  },
  {
   "cell_type": "code",
   "execution_count": 16,
   "metadata": {},
   "outputs": [
    {
     "name": "stdout",
     "output_type": "stream",
     "text": [
      "0 1 0.16666666666666666\n",
      "0 2 0.0\n",
      "0 3 0.3333333333333333\n",
      "0 5 0.0\n",
      "0 6 0.25\n",
      "0 7 0.0\n",
      "0 9 0.5\n",
      "0 10 0.0\n",
      "0 11 0.0\n",
      "0 12 0.0\n",
      "0 13 0.0\n",
      "0 14 0.0\n",
      "0 16 0.0\n",
      "0 17 0.0\n",
      "0 18 0.0\n",
      "1 3 0.16666666666666666\n",
      "1 5 0.4\n",
      "1 6 0.3333333333333333\n",
      "1 7 0.2857142857142857\n",
      "1 9 0.2\n",
      "1 11 0.2\n",
      "1 12 0.0\n",
      "1 14 0.0\n",
      "1 15 0.0\n",
      "1 16 0.0\n",
      "1 17 0.0\n",
      "2 3 0.0\n",
      "2 8 0.2857142857142857\n",
      "2 9 0.0\n",
      "2 10 0.2\n",
      "2 11 0.0\n",
      "2 12 0.0\n",
      "2 13 0.75\n",
      "2 14 0.16666666666666666\n",
      "2 15 0.0\n",
      "2 16 0.0\n",
      "2 17 0.0\n",
      "2 18 0.25\n",
      "3 5 0.0\n",
      "3 6 0.25\n",
      "3 7 0.0\n",
      "3 9 0.5\n",
      "3 10 0.0\n",
      "3 11 0.0\n",
      "3 12 0.0\n",
      "3 13 0.0\n",
      "3 14 0.0\n",
      "3 15 0.0\n",
      "3 17 0.0\n",
      "3 18 0.0\n",
      "5 6 0.25\n",
      "5 7 0.5\n",
      "5 8 0.0\n",
      "5 9 0.0\n",
      "5 10 0.0\n",
      "5 11 0.0\n",
      "5 12 0.0\n",
      "5 14 0.0\n",
      "5 15 0.0\n",
      "5 16 0.0\n",
      "5 17 0.0\n",
      "5 18 0.0\n",
      "6 9 0.3333333333333333\n",
      "6 10 0.0\n",
      "6 11 0.0\n",
      "6 12 0.0\n",
      "6 13 0.2\n",
      "6 14 0.2\n",
      "6 15 0.0\n",
      "6 16 0.0\n",
      "6 17 0.0\n",
      "6 18 0.0\n",
      "7 8 0.125\n",
      "7 9 0.0\n",
      "7 10 0.0\n",
      "7 11 0.0\n",
      "7 12 0.25\n",
      "7 15 0.0\n",
      "7 16 0.0\n",
      "7 17 0.25\n",
      "7 18 0.0\n",
      "8 10 0.16666666666666666\n",
      "8 11 0.0\n",
      "8 12 0.0\n",
      "8 13 0.14285714285714285\n",
      "8 14 0.0\n",
      "8 15 0.2\n",
      "8 16 0.2\n",
      "8 17 0.0\n",
      "8 18 0.2\n",
      "9 10 0.0\n",
      "9 11 0.0\n",
      "9 12 0.0\n",
      "9 13 0.0\n",
      "9 14 0.0\n",
      "9 15 0.0\n",
      "9 16 0.0\n",
      "9 17 0.0\n",
      "9 18 0.0\n",
      "10 12 0.0\n",
      "10 13 0.25\n",
      "10 14 0.0\n",
      "10 15 0.0\n",
      "10 16 0.0\n",
      "10 17 0.0\n",
      "10 18 0.5\n",
      "11 12 0.0\n",
      "11 13 0.0\n",
      "11 14 0.0\n",
      "11 15 0.0\n",
      "11 16 0.0\n",
      "11 17 0.0\n",
      "11 18 0.0\n",
      "12 13 0.0\n",
      "12 15 0.0\n",
      "12 16 0.0\n",
      "12 17 1.0\n",
      "12 18 0.0\n",
      "13 14 0.2\n",
      "13 15 0.0\n",
      "13 16 0.0\n",
      "13 17 0.0\n",
      "13 18 0.3333333333333333\n",
      "14 16 0.0\n",
      "14 18 0.0\n",
      "14 15 0.0\n",
      "15 16 0.0\n",
      "15 17 0.0\n",
      "15 18 0.0\n",
      "16 17 0.0\n",
      "16 18 0.0\n",
      "17 18 0.0\n"
     ]
    }
   ],
   "source": [
    "preds = nx.jaccard_coefficient(G)\n",
    "for u, v, p in preds:\n",
    "     print(u,v,p)"
   ]
  },
  {
   "cell_type": "markdown",
   "metadata": {},
   "source": [
    "1 3 0.16666666666666666 \n",
    "\n",
    "1 5 0.4 \n",
    "\n",
    "1 6 0.3333333333333333 \n",
    "\n",
    "1 7 0.2857142857142857 \n",
    "\n",
    "1 9 0.2 \n",
    "\n",
    "1 11 0.2 \n",
    "\n",
    "1 12 0.0 \n",
    "\n",
    "1 14 0.0 \n",
    "\n",
    "1 15 0.0 \n",
    "\n",
    "1 16 0.0 \n",
    "\n",
    "1 17 0.0"
   ]
  },
  {
   "cell_type": "code",
   "execution_count": 17,
   "metadata": {},
   "outputs": [],
   "source": [
    "import sklearn"
   ]
  },
  {
   "cell_type": "code",
   "execution_count": 18,
   "metadata": {},
   "outputs": [],
   "source": [
    "vec1=G[1]"
   ]
  },
  {
   "cell_type": "code",
   "execution_count": 20,
   "metadata": {},
   "outputs": [
    {
     "data": {
      "text/plain": [
       "[2, 10, 18, 8, 13]"
      ]
     },
     "execution_count": 20,
     "metadata": {},
     "output_type": "execute_result"
    }
   ],
   "source": [
    "list(vec1)"
   ]
  },
  {
   "cell_type": "code",
   "execution_count": 22,
   "metadata": {},
   "outputs": [
    {
     "name": "stdout",
     "output_type": "stream",
     "text": [
      "{2: {'Weight': 5}, 10: {'Weight': 4}, 18: {'Weight': 56}, 8: {'Weight': 2}, 13: {'Weight': 28}}\n"
     ]
    }
   ],
   "source": [
    "print(vec1)"
   ]
  },
  {
   "cell_type": "code",
   "execution_count": 24,
   "metadata": {},
   "outputs": [],
   "source": [
    "from itertools import chain\n",
    "\n",
    "# In [93]: dct = {'AAA': {'', '111', '222'}, 'BBB': {'222', '999', '555'}}\n",
    "\n",
    "arr1=[x for x in chain(*vec1.values()) if x]"
   ]
  },
  {
   "cell_type": "code",
   "execution_count": 25,
   "metadata": {},
   "outputs": [
    {
     "data": {
      "text/plain": [
       "['Weight', 'Weight', 'Weight', 'Weight', 'Weight']"
      ]
     },
     "execution_count": 25,
     "metadata": {},
     "output_type": "execute_result"
    }
   ],
   "source": [
    "arr1"
   ]
  },
  {
   "cell_type": "code",
   "execution_count": 26,
   "metadata": {},
   "outputs": [
    {
     "data": {
      "text/plain": [
       "ValuesView(AtlasView({2: {'Weight': 5}, 10: {'Weight': 4}, 18: {'Weight': 56}, 8: {'Weight': 2}, 13: {'Weight': 28}}))"
      ]
     },
     "execution_count": 26,
     "metadata": {},
     "output_type": "execute_result"
    }
   ],
   "source": [
    "vec1.values()"
   ]
  },
  {
   "cell_type": "code",
   "execution_count": 27,
   "metadata": {},
   "outputs": [
    {
     "data": {
      "text/plain": [
       "[5, 4, 56, 2, 28]"
      ]
     },
     "execution_count": 27,
     "metadata": {},
     "output_type": "execute_result"
    }
   ],
   "source": [
    "[val.get('Weight') for val in vec1.values()]"
   ]
  },
  {
   "cell_type": "code",
   "execution_count": 28,
   "metadata": {},
   "outputs": [],
   "source": [
    "del arr1"
   ]
  },
  {
   "cell_type": "code",
   "execution_count": 30,
   "metadata": {},
   "outputs": [],
   "source": [
    "arr1=[val.get('Weight') for val in vec1.values()]"
   ]
  },
  {
   "cell_type": "code",
   "execution_count": 31,
   "metadata": {},
   "outputs": [
    {
     "data": {
      "text/plain": [
       "[5, 4, 56, 2, 28]"
      ]
     },
     "execution_count": 31,
     "metadata": {},
     "output_type": "execute_result"
    }
   ],
   "source": [
    "arr1\n"
   ]
  },
  {
   "cell_type": "code",
   "execution_count": 56,
   "metadata": {},
   "outputs": [],
   "source": [
    "vec2=G[6]"
   ]
  },
  {
   "cell_type": "code",
   "execution_count": 57,
   "metadata": {},
   "outputs": [
    {
     "data": {
      "text/plain": [
       "[3, 29, 0]"
      ]
     },
     "execution_count": 57,
     "metadata": {},
     "output_type": "execute_result"
    }
   ],
   "source": [
    "arr2=[val.get('Weight') for val in vec2.values()]\n",
    "arr2"
   ]
  },
  {
   "cell_type": "code",
   "execution_count": 58,
   "metadata": {},
   "outputs": [],
   "source": [
    "arr3=[arr1]"
   ]
  },
  {
   "cell_type": "code",
   "execution_count": 59,
   "metadata": {},
   "outputs": [
    {
     "data": {
      "text/plain": [
       "[[5, 4, 56, 2, 28]]"
      ]
     },
     "execution_count": 59,
     "metadata": {},
     "output_type": "execute_result"
    }
   ],
   "source": [
    "arr3"
   ]
  },
  {
   "cell_type": "code",
   "execution_count": 60,
   "metadata": {},
   "outputs": [],
   "source": [
    "arr4=[arr2]"
   ]
  },
  {
   "cell_type": "code",
   "execution_count": 61,
   "metadata": {},
   "outputs": [],
   "source": [
    "arr4=np.pad(arr4, ((0,0),(0,2)), 'constant', constant_values=(0,0))"
   ]
  },
  {
   "cell_type": "code",
   "execution_count": 62,
   "metadata": {},
   "outputs": [
    {
     "data": {
      "text/plain": [
       "array([[ 3, 29,  0,  0,  0]])"
      ]
     },
     "execution_count": 62,
     "metadata": {},
     "output_type": "execute_result"
    }
   ],
   "source": [
    "arr4"
   ]
  },
  {
   "cell_type": "code",
   "execution_count": 65,
   "metadata": {},
   "outputs": [
    {
     "name": "stdout",
     "output_type": "stream",
     "text": [
      "[[0.0713576]]\n"
     ]
    }
   ],
   "source": [
    "from sklearn.metrics.pairwise import cosine_similarity\n",
    "print(cosine_similarity(arr3, arr4))"
   ]
  },
  {
   "cell_type": "code",
   "execution_count": 64,
   "metadata": {},
   "outputs": [
    {
     "data": {
      "text/plain": [
       "array([[ 3, 29,  0,  0,  0]])"
      ]
     },
     "execution_count": 64,
     "metadata": {},
     "output_type": "execute_result"
    }
   ],
   "source": [
    "np.pad(arr4[0],(0,1),'empty')\n",
    "arr4"
   ]
  },
  {
   "cell_type": "code",
   "execution_count": null,
   "metadata": {},
   "outputs": [],
   "source": []
  }
 ],
 "metadata": {
  "kernelspec": {
   "display_name": "Python 3",
   "language": "python",
   "name": "python3"
  },
  "language_info": {
   "codemirror_mode": {
    "name": "ipython",
    "version": 3
   },
   "file_extension": ".py",
   "mimetype": "text/x-python",
   "name": "python",
   "nbconvert_exporter": "python",
   "pygments_lexer": "ipython3",
   "version": "3.8.3"
  }
 },
 "nbformat": 4,
 "nbformat_minor": 4
}
